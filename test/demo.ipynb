{
 "cells": [
  {
   "cell_type": "markdown",
   "metadata": {},
   "source": [
    "# Demo"
   ]
  },
  {
   "cell_type": "markdown",
   "metadata": {},
   "source": [
    "This notebook converts transit data in GTFS foramt to .csv files with standard GMNS format for visualization, traffic simulation and planning purpose.\n",
    "It takes Phoenix as example."
   ]
  },
  {
   "cell_type": "code",
   "execution_count": 1,
   "metadata": {},
   "outputs": [],
   "source": [
    "import os\n",
    "import math\n",
    "import datetime\n",
    "import numpy as np\n",
    "import pandas as pd\n",
    "from python import readtxt, LLs2Dist, convert_time_sequence, time_convert, time_calculate, time"
   ]
  },
  {
   "cell_type": "markdown",
   "metadata": {},
   "source": [
    "### Read GTFS data\n",
    "stop.txt, route.txt, trip.txt, stop_times.txt is required."
   ]
  },
  {
   "cell_type": "code",
   "execution_count": 2,
   "metadata": {},
   "outputs": [],
   "source": [
    "os.getcwd()\n",
    "os.chdir('../data')\n",
    "\n",
    "df_stops = readtxt('stops')\n",
    "df_routes = readtxt('routes')\n",
    "df_trips = readtxt('trips')\n",
    "df_stoptimes = readtxt('stop_times')"
   ]
  },
  {
   "cell_type": "markdown",
   "metadata": {},
   "source": [
    "### build node.csv"
   ]
  },
  {
   "cell_type": "code",
   "execution_count": 3,
   "metadata": {},
   "outputs": [],
   "source": [
    "node_csv = pd.DataFrame()\n",
    "\n",
    "node_csv['name'] = df_stops['stop_id']\n",
    "node_csv['x_coord'] = df_stops['stop_lon']\n",
    "node_csv['y_coord'] = df_stops['stop_lat']\n",
    "node_csv['node_type'] = None\n",
    "node_csv['ctrl_type'] = None\n",
    "node_csv['zone_id'] = None\n",
    "node_csv['geometry'] = \"POINT (\" + df_stops['stop_lon'] + \" \" + df_stops['stop_lat'] +\")\"\n",
    "\n",
    "node_csv['node_id'] = range(100001,100001 + node_csv['name'].size,1)"
   ]
  },
  {
   "cell_type": "markdown",
   "metadata": {},
   "source": [
    "### build link.csv"
   ]
  },
  {
   "cell_type": "code",
   "execution_count": 4,
   "metadata": {},
   "outputs": [],
   "source": [
    "node_csv = node_csv.rename(columns={'name':'stop_id'})"
   ]
  },
  {
   "cell_type": "code",
   "execution_count": 5,
   "metadata": {},
   "outputs": [],
   "source": [
    "combined_route = df_trips.merge(df_routes,on='route_id',how='left')\n",
    "combined_stop = df_stoptimes.merge(node_csv,on='stop_id',how='left' )\n",
    "combined_trip = combined_stop.merge(df_trips,on='trip_id',how='left')"
   ]
  },
  {
   "cell_type": "code",
   "execution_count": 6,
   "metadata": {},
   "outputs": [],
   "source": [
    "dataList_route = {}\n",
    "gp = combined_route.groupby('trip_id')\n",
    "\n",
    "for key, form in gp:\n",
    "    dataList_route[key] = {\n",
    "        'route_id': form['route_id'].values[0],\n",
    "        'route_id_short_name': form['route_long_name'].values[0]\n",
    "        }"
   ]
  },
  {
   "cell_type": "code",
   "execution_count": 7,
   "metadata": {},
   "outputs": [],
   "source": [
    "dataList_trip = {}\n",
    "gp = combined_trip.groupby('trip_id')\n",
    "\n",
    "for key, form in gp:\n",
    "    temp = form['arrival_time']\n",
    "    temp = convert_time_sequence(temp)\n",
    "    dataList_trip[key] = {\n",
    "        'route_id': form['route_id'].values[0],\n",
    "        'from_node_id': form['node_id'].values[0],\n",
    "        'to_node_id': form['node_id'].values[-1],\n",
    "        'node_sequence': form['node_id'].tolist(),\n",
    "        'time_sequence': temp\n",
    "        }"
   ]
  },
  {
   "cell_type": "code",
   "execution_count": 8,
   "metadata": {},
   "outputs": [],
   "source": [
    "link_list = []\n",
    "link_csv = pd.DataFrame()\n",
    "\n",
    "node_x = node_csv['x_coord'].tolist()\n",
    "node_y = node_csv['y_coord'].tolist()\n",
    "node_id_list = node_csv['node_id'].tolist()\n",
    "\n",
    "for key in dataList_trip.keys(): \n",
    "    active_node_sequence_size = len(dataList_trip[key]['node_sequence'])\n",
    "        \n",
    "    for i in range(active_node_sequence_size-1):\n",
    "        \n",
    "        route_index = dataList_trip[key]['route_id']\n",
    "        active_from_node_id = dataList_trip[key]['node_sequence'][i]\n",
    "        active_to_node_id = dataList_trip[key]['node_sequence'][i+1]\n",
    "        active_from_node_idx = node_id_list.index(active_from_node_id)\n",
    "        active_to_node_idx = node_id_list.index(active_to_node_id)\n",
    "        \n",
    "        from_node_id_x = node_x[active_from_node_idx]\n",
    "        from_node_id_y = node_y[active_from_node_idx]\n",
    "        to_node_id_x = node_x[active_to_node_idx]\n",
    "        to_node_id_y = node_y[active_to_node_idx]\n",
    "        \n",
    "        active_distance = LLs2Dist(float(from_node_id_x),float(from_node_id_y),float(to_node_id_x),float(to_node_id_y))\n",
    "        active_geometry = 'LINESTRING (' + str(from_node_id_x)+' '+str(from_node_id_y)+', '+str(to_node_id_x)+' '+str(to_node_id_y)+')'\n",
    "        \n",
    "        link_list.append([route_index,active_from_node_id,active_to_node_id,active_distance,active_geometry])  "
   ]
  },
  {
   "cell_type": "code",
   "execution_count": 9,
   "metadata": {},
   "outputs": [],
   "source": [
    "link_csv = pd.DataFrame(link_list, columns=['name','from_node_id','to_node_id','length','geometry']).drop_duplicates()    "
   ]
  },
  {
   "cell_type": "code",
   "execution_count": 10,
   "metadata": {},
   "outputs": [],
   "source": [
    "link_csv['facility_type'] = None\n",
    "link_csv['link_type'] = 1\n",
    "link_csv['dir_flag'] = 1\n",
    "link_csv['lanes'] = 1\n",
    "link_csv['free_speed'] = 65\n",
    "link_csv['capacity'] = 1900\n",
    "link_csv['main_node_id'] = None\n",
    "link_csv['movement_str'] = None\n",
    "link_csv['NEMA_phase_number'] = None    \n",
    "    \n",
    "link_csv.index.name = 'link_id'\n",
    "link_csv.index += 0"
   ]
  },
  {
   "cell_type": "markdown",
   "metadata": {},
   "source": [
    "### build agent.csv"
   ]
  },
  {
   "cell_type": "code",
   "execution_count": 11,
   "metadata": {},
   "outputs": [],
   "source": [
    "agent_csv = pd.DataFrame()\n",
    "\n",
    "length_temp = np.array(link_csv['length'])\n",
    "from_node_temp = np.array(link_csv['from_node_id'])\n",
    "to_node_temp = np.array(link_csv['to_node_id'])"
   ]
  },
  {
   "cell_type": "code",
   "execution_count": 12,
   "metadata": {},
   "outputs": [],
   "source": [
    "for key in dataList_trip.keys():\n",
    "    active_length_list = []\n",
    "    flag = 1\n",
    "\n",
    "    active_node_sequence_size = len(dataList_trip[key]['node_sequence'])\n",
    "    for i in range(active_node_sequence_size-1):\n",
    "        active_from_node_id = dataList_trip[key]['node_sequence'][i]\n",
    "        active_to_node_id = dataList_trip[key]['node_sequence'][i+1]\n",
    "        temp1 = np.array(from_node_temp == active_from_node_id)\n",
    "        temp2 = np.array(to_node_temp == active_to_node_id)\n",
    "        temp = temp1 & temp2\n",
    "        if not any(temp2):\n",
    "            flag = 0\n",
    "            break\n",
    "        \n",
    "        active_length = length_temp[temp2]\n",
    "        active_length = active_length[0]\n",
    "        active_length_list.append(active_length)\n",
    "          \n",
    "    if flag == 1:\n",
    "        active_length = sum(active_length_list) \n",
    "        active_time_sequence = dataList_trip[key]['time_sequence']\n",
    "        active_time_first_temp = dataList_trip[key]['time_sequence'][0]\n",
    "        active_time_last_temp = dataList_trip[key]['time_sequence'][-1]\n",
    "        active_time=time(active_time_first_temp, active_time_last_temp)\n",
    "\n",
    "        node_sequence_str = list(map(str, dataList_trip[key]['node_sequence']))\n",
    "        node_sequence_temp = ';'.join(node_sequence_str)+';'\n",
    "        \n",
    "        time_sequence_temp = ';'.join(active_time_sequence)+';'\n",
    "        \n",
    "        agent_csv = agent_csv.append([{'agent_type':'transit', 'trip_id':key, 'route_id':dataList_trip[key]['route_id'],\n",
    "                                'route_id_short_name':dataList_route[key]['route_id_short_name'],\n",
    "                                'from_node_id':dataList_trip[key]['from_node_id'], 'to_node_id':dataList_trip[key]['to_node_id'],\n",
    "                                'travel_time':active_time, 'distance':active_length,\n",
    "                                'node_sequence':node_sequence_temp,\n",
    "                                'time_sequence':time_sequence_temp}],ignore_index=True)"
   ]
  },
  {
   "cell_type": "code",
   "execution_count": 13,
   "metadata": {},
   "outputs": [],
   "source": [
    "agent_csv.index.name = 'agent_id'\n",
    "agent_csv.index += 0"
   ]
  }
 ],
 "metadata": {
  "kernelspec": {
   "display_name": "Python 3",
   "language": "python",
   "name": "python3"
  },
  "language_info": {
   "codemirror_mode": {
    "name": "ipython",
    "version": 3
   },
   "file_extension": ".py",
   "mimetype": "text/x-python",
   "name": "python",
   "nbconvert_exporter": "python",
   "pygments_lexer": "ipython3",
   "version": "3.7.6"
  }
 },
 "nbformat": 4,
 "nbformat_minor": 4
}
